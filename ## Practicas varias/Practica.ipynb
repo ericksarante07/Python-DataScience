{
 "cells": [
  {
   "cell_type": "code",
   "execution_count": 1,
   "id": "9fb70133",
   "metadata": {},
   "outputs": [
    {
     "name": "stdout",
     "output_type": "stream",
     "text": [
      "Hola mundo\n"
     ]
    }
   ],
   "source": [
    "print('Hola mundo')"
   ]
  },
  {
   "cell_type": "code",
   "execution_count": 23,
   "id": "305f0dec",
   "metadata": {},
   "outputs": [],
   "source": [
    "nombre = []\n",
    "\n",
    "def pregunta_nombre():\n",
    "    nombre = input(str)\n",
    "    return f'Hola {nombre}!'"
   ]
  },
  {
   "cell_type": "code",
   "execution_count": 24,
   "id": "65f76b42",
   "metadata": {},
   "outputs": [
    {
     "data": {
      "text/plain": [
       "'Hola erick!'"
      ]
     },
     "execution_count": 24,
     "metadata": {},
     "output_type": "execute_result"
    }
   ],
   "source": [
    "pregunta_nombre()"
   ]
  },
  {
   "cell_type": "code",
   "execution_count": 6,
   "id": "cd36a488",
   "metadata": {},
   "outputs": [],
   "source": [
    "import numpy as np"
   ]
  },
  {
   "cell_type": "code",
   "execution_count": 10,
   "id": "05c24fb4",
   "metadata": {},
   "outputs": [
    {
     "data": {
      "text/plain": [
       "0.25"
      ]
     },
     "execution_count": 10,
     "metadata": {},
     "output_type": "execute_result"
    }
   ],
   "source": [
    "((3+2)/(2*5))**2"
   ]
  },
  {
   "cell_type": "code",
   "execution_count": 36,
   "id": "1e1e8174",
   "metadata": {},
   "outputs": [
    {
     "data": {
      "text/plain": [
       "88.0"
      ]
     },
     "execution_count": 36,
     "metadata": {},
     "output_type": "execute_result"
    }
   ],
   "source": [
    "def paga_horas_trabajo():\n",
    "    horas = float(input('Horas trabajadas: '))\n",
    "    tarifa = float(input('Pago por hora trabajada: '))\n",
    "    return horas * tarifa\n",
    "\n",
    "paga_horas_trabajo()"
   ]
  },
  {
   "cell_type": "code",
   "execution_count": 39,
   "id": "cf8804d4",
   "metadata": {},
   "outputs": [
    {
     "name": "stdout",
     "output_type": "stream",
     "text": [
      "La suma de los primeros 5 números es: 15.0\n"
     ]
    }
   ],
   "source": [
    "n = int(input('Introduce un número: '))\n",
    "suma = (n*(n+1))/2\n",
    "print(f'La suma de los primeros {n} números es: {suma}')"
   ]
  },
  {
   "cell_type": "code",
   "execution_count": 45,
   "id": "72bc7023",
   "metadata": {},
   "outputs": [
    {
     "data": {
      "text/plain": [
       "26.566839753652943"
      ]
     },
     "execution_count": 45,
     "metadata": {},
     "output_type": "execute_result"
    }
   ],
   "source": [
    "def indice_masa_corporal():\n",
    "    peso = float(input('Introduce tu peso en kg: '))\n",
    "    altura = float(input('Introduce tu altura en metros: '))\n",
    "    # Calcular el IMC   \n",
    "    imc = float((peso / (altura ** 2))*100)*100\n",
    "    return imc\n",
    "\n",
    "indice_masa_corporal()"
   ]
  },
  {
   "cell_type": "code",
   "execution_count": 47,
   "id": "69aa2997",
   "metadata": {},
   "outputs": [
    {
     "name": "stdout",
     "output_type": "stream",
     "text": [
      "8 entre 16 da un cociente de 0.5  y un resto de 8\n"
     ]
    }
   ],
   "source": [
    "n= int(input('Introduce un número: '))\n",
    "m = int(input('Introduce otro número: '))\n",
    "print(f'{n} entre {m} da un cociente de {n/m}  y un resto de {n%m}')"
   ]
  },
  {
   "cell_type": "code",
   "execution_count": 49,
   "id": "6301cf4e",
   "metadata": {},
   "outputs": [],
   "source": [
    "def invertir():\n",
    "    cantidad = float(input('Cuántos quiere invertir? '))\n",
    "    interes = float(input('Qué interés anual le ofrecen? '))\n",
    "    tiempo = int(input('Cuántos años? '))\n",
    "    # Calcular el interés compuesto\n",
    "    total = cantidad * (1 + interes/100) ** tiempo\n",
    "    return total\n"
   ]
  },
  {
   "cell_type": "code",
   "execution_count": 51,
   "id": "38710171",
   "metadata": {},
   "outputs": [
    {
     "data": {
      "text/plain": [
       "15036.566901781247"
      ]
     },
     "execution_count": 51,
     "metadata": {},
     "output_type": "execute_result"
    }
   ],
   "source": [
    "invertir()"
   ]
  },
  {
   "cell_type": "code",
   "execution_count": 55,
   "id": "388f596b",
   "metadata": {},
   "outputs": [],
   "source": [
    "def calculo_muñecos():\n",
    "    payasos = float(input('Cuántos muñecos hay: '))\n",
    "    muñecas = float(input('cuantas muñecas hay: '))\n",
    "    peso_payasos = payasos * 112\n",
    "    peso_muñecas = muñecas * 75\n",
    "    return f'El total entre Payaso y muñecas es: {peso_payasos + peso_muñecas}gramos'"
   ]
  },
  {
   "cell_type": "code",
   "execution_count": 56,
   "id": "bc61f420",
   "metadata": {},
   "outputs": [
    {
     "data": {
      "text/plain": [
       "'El total entre Payaso y muñecas es: 3850.0gramos'"
      ]
     },
     "execution_count": 56,
     "metadata": {},
     "output_type": "execute_result"
    }
   ],
   "source": [
    "calculo_muñecos()"
   ]
  },
  {
   "cell_type": "code",
   "execution_count": 60,
   "id": "ffc24c0f",
   "metadata": {},
   "outputs": [
    {
     "name": "stdout",
     "output_type": "stream",
     "text": [
      "para el Año 0 el total es: 10.4\n",
      "para el Año 1 el total es: 10.816\n",
      "para el Año 2 el total es: 11.248640000000002\n",
      "para el Año 3 el total es: 11.698585600000003\n",
      "para el Año 4 el total es: 12.166529024000004\n"
     ]
    }
   ],
   "source": [
    "cantidad = float(input('Cuántos quiere invertir? '))\n",
    "años = int(input('Cuántos años? '))\n",
    "interes = 1.04\n",
    "\n",
    "for i in range(años):\n",
    "    cantidad *= interes\n",
    "    print(f'para el Año {i } el total es: {cantidad}')"
   ]
  },
  {
   "cell_type": "code",
   "execution_count": 67,
   "id": "5f7d4dab",
   "metadata": {},
   "outputs": [],
   "source": [
    "def calculo_pan():\n",
    "    precio = 3.49\n",
    "    panes_hoy = int(input('Cuántos panes son de hoy? '))\n",
    "    panes_ayer = int(input('Cuántos panes son de ayer? '))\n",
    "    total_hoy = panes_hoy * precio\n",
    "    total_ayer = panes_ayer * (precio - precio * 0.6)  \n",
    "\n",
    "    return (f'El total de panes de hoy es: {total_hoy} y el total de panes de ayer es: {total_ayer} para un tottal de {total_hoy + total_ayer},\\n con un p`recio de {precio} y de {precio - precio * 0.6} respectivamente' )"
   ]
  },
  {
   "cell_type": "code",
   "execution_count": 68,
   "id": "72ee042f",
   "metadata": {},
   "outputs": [
    {
     "data": {
      "text/plain": [
       "'El total de panes de hoy es: 34.900000000000006 y el total de panes de ayer es: 13.960000000000004 para un tottal de 48.860000000000014,\\n con un p`recio de 3.49 y de 1.3960000000000004 respectivamente'"
      ]
     },
     "execution_count": 68,
     "metadata": {},
     "output_type": "execute_result"
    }
   ],
   "source": [
    "calculo_pan()"
   ]
  },
  {
   "cell_type": "code",
   "execution_count": 70,
   "id": "1ab89dab",
   "metadata": {},
   "outputs": [
    {
     "name": "stdout",
     "output_type": "stream",
     "text": [
      "Hola erick\n",
      "Hola erick\n",
      "Hola erick\n",
      "Hola erick\n",
      "Hola erick\n"
     ]
    }
   ],
   "source": [
    "nombre  = input('Introduce tu nombre: ')\n",
    "numero = int(input('Introduce un número: '))\n",
    "\n",
    "for i in range(numero):\n",
    "    print(f'Hola {nombre}')"
   ]
  },
  {
   "cell_type": "code",
   "execution_count": 71,
   "id": "8ee7546f",
   "metadata": {},
   "outputs": [
    {
     "name": "stdout",
     "output_type": "stream",
     "text": [
      " Hola ERICK!\n",
      " Hola erick!\n",
      " Hola Erick!\n"
     ]
    }
   ],
   "source": [
    "nombre = input('Introduce tu nombre: ')\n",
    "print(f' Hola {nombre.upper()}!')\n",
    "print(f' Hola {nombre.lower()}!')\n",
    "print(f' Hola {nombre.capitalize()}!')"
   ]
  },
  {
   "cell_type": "code",
   "execution_count": 73,
   "id": "a9f0fa42",
   "metadata": {},
   "outputs": [],
   "source": [
    "def numero_letras():\n",
    "    nombre = input('Introduce tu nombre: ')\n",
    "    numero = len(nombre)\n",
    "    return f'{nombre} tiene {numero} letras'"
   ]
  },
  {
   "cell_type": "code",
   "execution_count": 74,
   "id": "1e53a980",
   "metadata": {},
   "outputs": [
    {
     "data": {
      "text/plain": [
       "'Erick Sarante tiene 13 letras'"
      ]
     },
     "execution_count": 74,
     "metadata": {},
     "output_type": "execute_result"
    }
   ],
   "source": [
    "numero_letras()"
   ]
  },
  {
   "cell_type": "code",
   "execution_count": null,
   "id": "d9dc3454",
   "metadata": {},
   "outputs": [],
   "source": [
    "def telefono():\n",
    "    prefijo = input('Introduce el prefijo: ')\n",
    "    numero = input('Introduce el número: ')\n",
    "    telefono = prefijo + numero\n",
    "    if len(telefono) == 12:\n",
    "        return f'Número correcto, el numero es {numero}-56'\n",
    "    else:\n",
    "        return 'Número incorrecto'"
   ]
  },
  {
   "cell_type": "code",
   "execution_count": 77,
   "id": "222991b2",
   "metadata": {},
   "outputs": [
    {
     "data": {
      "text/plain": [
       "'Número correcto el numero es 687115737-56'"
      ]
     },
     "execution_count": 77,
     "metadata": {},
     "output_type": "execute_result"
    }
   ],
   "source": [
    "telefono()"
   ]
  },
  {
   "cell_type": "code",
   "execution_count": 78,
   "id": "697447cd",
   "metadata": {},
   "outputs": [
    {
     "name": "stdout",
     "output_type": "stream",
     "text": [
      "El nombre invertido es: etnaraS kcirE\n"
     ]
    }
   ],
   "source": [
    "nombre = input('Introduce tu nombre: ')\n",
    "cadena_invertida = nombre[::-1]\n",
    "print(f'El nombre invertido es: {cadena_invertida}')"
   ]
  },
  {
   "cell_type": "code",
   "execution_count": 86,
   "id": "4a0085a9",
   "metadata": {},
   "outputs": [
    {
     "name": "stdout",
     "output_type": "stream",
     "text": [
      "holA Amigo mio como estAs\n"
     ]
    }
   ],
   "source": [
    "frase = input('Introduce una frase: ')\n",
    "vocal = input('Introduce una vocal: ')\n",
    "print(frase.replace(vocal, vocal.upper()))\n"
   ]
  },
  {
   "cell_type": "code",
   "execution_count": 87,
   "id": "c56adef0",
   "metadata": {},
   "outputs": [],
   "source": [
    "def correo():\n",
    "    nombre = input('Introduce tu nombre: ')\n",
    "    apellido = input('Introduce tu apellido: ')\n",
    "    return f' El correo es: {nombre[0].lower()}.{apellido.lower()}@gmail.com'"
   ]
  },
  {
   "cell_type": "code",
   "execution_count": 88,
   "id": "7715ca42",
   "metadata": {},
   "outputs": [
    {
     "data": {
      "text/plain": [
       "' El correo es: e.sarante@gmail.com'"
      ]
     },
     "execution_count": 88,
     "metadata": {},
     "output_type": "execute_result"
    }
   ],
   "source": [
    "correo()"
   ]
  },
  {
   "cell_type": "code",
   "execution_count": 91,
   "id": "4f6610cf",
   "metadata": {},
   "outputs": [
    {
     "name": "stdout",
     "output_type": "stream",
     "text": [
      "100 Euros y 1 centimos\n"
     ]
    }
   ],
   "source": [
    "precio = float(input('Introduce el precio del producto: '))\n",
    "euros, centimos = str(precio).split('.')\n",
    "print(f'{euros} Euros y {centimos} centimos')"
   ]
  },
  {
   "cell_type": "code",
   "execution_count": 92,
   "id": "2d1badbb",
   "metadata": {},
   "outputs": [],
   "source": [
    "def fecha_nacimeinto():\n",
    "    fecha = input('Introduce tu fecha de nacimiento (dd/mm/aaaa): ')\n",
    "    dia, mes, año = fecha.split('/')\n",
    "    return f'El día es: {dia}, el mes es: {mes} y el año es: {año}'"
   ]
  },
  {
   "cell_type": "code",
   "execution_count": 93,
   "id": "7f14ae9c",
   "metadata": {},
   "outputs": [
    {
     "data": {
      "text/plain": [
       "'El día es: 07, el mes es: 04 y el año es: 1996'"
      ]
     },
     "execution_count": 93,
     "metadata": {},
     "output_type": "execute_result"
    }
   ],
   "source": [
    "fecha_nacimeinto()"
   ]
  },
  {
   "cell_type": "code",
   "execution_count": 98,
   "id": "7a651359",
   "metadata": {},
   "outputs": [],
   "source": [
    "def compra():\n",
    "    cesta = input('Introduce la cesta: ')\n",
    "    cesta = cesta.split(',')\n",
    "    for i in cesta:\n",
    "        print(i)"
   ]
  },
  {
   "cell_type": "code",
   "execution_count": 99,
   "id": "8c26090a",
   "metadata": {},
   "outputs": [
    {
     "name": "stdout",
     "output_type": "stream",
     "text": [
      "hoeuvo\n",
      "fkhdfjah\n",
      "asjdfhajsd\n",
      "asdfaghsd\n"
     ]
    }
   ],
   "source": [
    "compra()"
   ]
  },
  {
   "cell_type": "code",
   "execution_count": 102,
   "id": "0a308bc2",
   "metadata": {},
   "outputs": [],
   "source": [
    "def producto():\n",
    "    producto = input('Introduce el producto: ')\n",
    "    precio = float(input('Introduce el precio: '))\n",
    "    cantidad = int(input('Introduce la cantidad: '))\n",
    "    total = precio * cantidad\n",
    "    return f'El producto es: {producto}, el precio es: {precio:6.2f}, la cantidad es: {cantidad:3.0f} y el total es: {total:8.2f}'"
   ]
  },
  {
   "cell_type": "code",
   "execution_count": 103,
   "id": "ef3297ba",
   "metadata": {},
   "outputs": [
    {
     "data": {
      "text/plain": [
       "'El producto es: Papaya, el precio es: 100.90, la cantidad es:  41 y el total es:  4136.72'"
      ]
     },
     "execution_count": 103,
     "metadata": {},
     "output_type": "execute_result"
    }
   ],
   "source": [
    "producto()"
   ]
  },
  {
   "cell_type": "code",
   "execution_count": 107,
   "id": "c9d1b4cd",
   "metadata": {},
   "outputs": [
    {
     "name": "stdout",
     "output_type": "stream",
     "text": [
      "Eres Mayor de edad\n"
     ]
    }
   ],
   "source": [
    "edad = input('Introduce tu edad: ')\n",
    "if edad.isnumeric():\n",
    "    edad = int(edad)\n",
    "    if edad > 18:\n",
    "        print('Eres Mayor de edad')\n",
    "    else:\n",
    "        print('Eres menor de edad')"
   ]
  },
  {
   "cell_type": "code",
   "execution_count": 4,
   "id": "78b182b4",
   "metadata": {},
   "outputs": [
    {
     "data": {
      "text/plain": [
       "'Contraseña correcta'"
      ]
     },
     "execution_count": 4,
     "metadata": {},
     "output_type": "execute_result"
    }
   ],
   "source": [
    "def contrasena():\n",
    "    contrasena = '123456Erick'.lower()\n",
    "    contrasena_usuario = input('Introduce la contraseña: ').lower()\n",
    "\n",
    "    if contrasena == contrasena_usuario:\n",
    "        return 'Contraseña correcta'\n",
    "    else:\n",
    "        return 'Contraseña incorrecta'\n",
    "    \n",
    "contrasena()"
   ]
  },
  {
   "cell_type": "code",
   "execution_count": 13,
   "id": "c2218734",
   "metadata": {},
   "outputs": [
    {
     "name": "stdout",
     "output_type": "stream",
     "text": [
      "El resultado es: 1.0\n"
     ]
    }
   ],
   "source": [
    "try:\n",
    "    numero_1 = int(input('Introduce el primer número: '))\n",
    "    numero_2 = int(input('Introduce el segundo número: '))\n",
    "    resultado = numero_1 / numero_2\n",
    "    if resultado == 0:\n",
    "        raise ValueError('El resultado de la división es 0, lo cual no es permitido.')\n",
    "    print(f'El resultado es: {resultado}')\n",
    "except ZeroDivisionError as e:\n",
    "    print(f'No se puede dividir entre 0: {e}')\n",
    "except ValueError as e:\n",
    "    print(f'Error: {e}')\n",
    "\n"
   ]
  },
  {
   "cell_type": "code",
   "execution_count": null,
   "id": "a8808eb9",
   "metadata": {},
   "outputs": [],
   "source": []
  }
 ],
 "metadata": {
  "kernelspec": {
   "display_name": "Data_Sci_2",
   "language": "python",
   "name": "python3"
  },
  "language_info": {
   "codemirror_mode": {
    "name": "ipython",
    "version": 3
   },
   "file_extension": ".py",
   "mimetype": "text/x-python",
   "name": "python",
   "nbconvert_exporter": "python",
   "pygments_lexer": "ipython3",
   "version": "3.11.9"
  }
 },
 "nbformat": 4,
 "nbformat_minor": 5
}
